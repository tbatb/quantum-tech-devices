{
 "cells": [
  {
   "cell_type": "markdown",
   "metadata": {},
   "source": [
    "# Homework 1: Quantum Wells and Perturbation Theory\n",
    "\n",
    "---\n",
    "## Introduction\n",
    "In this homework you will:\n",
    "- Work with quantum wells\n",
    "- Implement a Schrödinger solver\n",
    "- Explore perturbation theory\n",
    "\n"
   ]
  },
  {
   "cell_type": "markdown",
   "metadata": {},
   "source": [
    "### Helper Functions\n",
    "The following function builds a heterostructure potential.\n",
    "Layers are defined as `(thickness, band_edge)`, whereas the thickness is passed in nanometers and the band-edge in eV. \n",
    "Returns: Two arrays, the first being the grid in space and the second the potential structure.\n",
    "\n",
    "Example: `[(5, 1.0), (2, 0.3), (5, 1.0)]` → barrier-well-barrier structure.\n",
    "\n",
    "Tip: Use the function and plot a random structure to understand it."
   ]
  },
  {
   "cell_type": "code",
   "execution_count": null,
   "metadata": {},
   "outputs": [],
   "source": [
    "import numpy as np\n",
    "import matplotlib.pyplot as plt\n",
    "import scipy.constants as const\n",
    "\n",
    "def build_potential(layers, dz_nm=0.05):\n",
    "    \"\"\"\n",
    "    Build heterostructure potential from layers.\n",
    "    layers: list of (thickness [nm], band edge [eV])\n",
    "    dz_nm: grid spacing [nm]\n",
    "    returns: z [m], V [J]\n",
    "    \"\"\"\n",
    "    z = []\n",
    "    V = []\n",
    "    pos = 0.0\n",
    "    for thickness_nm, band_edge_eV in layers:\n",
    "        n_points = int(thickness_nm/dz_nm)\n",
    "        for _ in range(n_points):\n",
    "            z.append(pos * 1e-9)\n",
    "            V.append(band_edge_eV * const.eV)\n",
    "            pos += dz_nm\n",
    "    return np.array(z), np.array(V)"
   ]
  },
  {
   "cell_type": "markdown",
   "metadata": {},
   "source": [
    "## Task 1: Finite Quantum Well\n",
    "**(a)** Use `build_potential` to make a single well of width 3 nm, band edge offset 1 eV. \n",
    "\n",
    "**(b)** Solve numerically. Implement the function `solve_schrodinger(z, V, n_eigs)` that:\n",
    "- Constructs the Hamiltonian with finite differences\n",
    "- Uses electron mass `m_e`\n",
    "- Returns the lowest `n_eigs` eigenenergies (in eV)\n",
    "- Returns normalized wavefunctions (∫ |ψ|² dx = 1)\n",
    "\n",
    "Use as boundary condition that the wavefunction must be zero. Consider this when you choose a barrier material layer thickness to not introduce numerical artifacts.\n",
    "\n",
    "**(c)** Plot probability densities for first three states and compare energies with analytical values. Maybe use a scaling factor for the wavefunction such that the wavefunction is nicely plotted. Use axis labels (incl. units) and a legend where helpful. "
   ]
  },
  {
   "cell_type": "code",
   "execution_count": null,
   "metadata": {},
   "outputs": [],
   "source": [
    "def solve_schrodinger(x, V, n_eigs=5):\n",
    "    #Do some calculations\n",
    "    \n",
    "    return # put return values here\n",
    "    "
   ]
  },
  {
   "cell_type": "markdown",
   "metadata": {},
   "source": [
    "## Task 2: Coupled Quantum Wells\n",
    "**(a)** Build a double well and solve numerically. Both wells should have the same width. Play around with the design to get a feeling of what is happening. Stay with a design where you see a splitting between the subbands.\n",
    "\n",
    "**(b)** Plot lowest two wavefunctions and explain symmetric/antisymmetric states.\n",
    "\n",
    "**(c)** Create a plot that shows the splitting energy (=Energy difference) between the two lowest states versus the barrier width. \n",
    "\n"
   ]
  },
  {
   "cell_type": "code",
   "execution_count": null,
   "metadata": {},
   "outputs": [],
   "source": []
  },
  {
   "cell_type": "markdown",
   "metadata": {},
   "source": [
    "## Task 3 — Coupled states using the pertubation theory\n",
    "\n",
    "**Goal.**  \n",
    "Start from two *uncoupled* wells (left and right). Compute their ground states separately.  \n",
    "Then form the full coupled-device and compute its numerical eigenstates.  \n",
    "Finally, we use a linear combination\n",
    "$$\n",
    "    \\Psi_{coupled} = c_L \\psi_L + c_R \\psi_R\n",
    "$$\n",
    "\n",
    "and build a 2×2 Hamiltonian in the subspace spanned by the two uncoupled ground states and solve the generalized eigenproblem\n",
    "\n",
    "$$\n",
    "H_\\text{per} \\, c = E \\, S \\, c,\n",
    "$$\n",
    "\n",
    "with overlap matrix $S_{ij}=\\langle\\psi_i|\\psi_j\\rangle$.\n",
    "\n",
    "Then use the solution of this eigenproblem to calculate the coupled states.\n",
    "\n",
    "---\n",
    "\n",
    "**Given layer lists (units: nm, eV):**\n",
    "\n",
    "Left uncoupled device:\n",
    "```python\n",
    "layers_left  = [(5.0, 0.0), (2.0, -0.5), (7.3, 0.0)]\n",
    "```\n",
    "Right uncoupled device:\n",
    "```python\n",
    "layers_right = [(7.3, 0.0), (2.0, -0.5), (5.0, 0.0)]\n",
    "```\n",
    "Full coupled device:\n",
    "```python\n",
    "layers_coupled = [(5.0, 0.0), (2.0, -0.5), (0.3, 0.0), (2.0, -0.5), (5.0, 0.0)]\n",
    "```\n",
    "\n",
    "---\n",
    "\n",
    "**Steps to do:**\n",
    "\n",
    "1. Build potentials with `build_potential(layers, dz_nm=...)`.  Note: make sure all 3 arrays have the same length. Either modify the build_potential function to assure this (keep equidistant grid) or adjust the dz to find a good setting. \n",
    "2. Solve for uncoupled ground states (`solve_schrodinger(..., n_eigs=1)`) for the left and the right (both energies $E_L$ and $E_R$ should be the same)\n",
    "3. Solve coupled device.  \n",
    "4. Calculate the matrix elements of `H_per` and construct the 2x2 matrix.\n",
    "5. Compute overlap `S`.  \n",
    "6. Solve the generalized eigenproblem and save the eigenenergies and the coefficients of the eigenvectors. What do these energies represent now?\n",
    "7. Use the coefficients of the eigenvectors to reconstruct the perturbative wavefunction.  \n",
    "8. Plot energies and probability densities. Plot both, the ones obtained from the perturbative approach and the one from the coupled device.\n",
    "9. Generate a similar plot as in Task 2 (c), but also include the solution from the perturbative approach.\n",
    "\n",
    "---\n"
   ]
  },
  {
   "cell_type": "code",
   "execution_count": null,
   "id": "9da3be02",
   "metadata": {},
   "outputs": [],
   "source": [
    "# Define layer structures\n",
    "layers_left    = [(5.0, 0.0), (2.0, -0.5), (7.3, 0.0)]\n",
    "layers_right   = [(7.3, 0.0), (2.0, -0.5), (5.0, 0.0)]\n",
    "layers_coupled = [(5.0, 0.0), (2.0, -0.5), (0.3, 0.0), (2.0, -0.5), (5.0, 0.0)]\n",
    "\n",
    "dz_nm = 0.01\n"
   ]
  }
 ],
 "metadata": {
  "kernelspec": {
   "display_name": "Python 3",
   "language": "python",
   "name": "python3"
  },
  "language_info": {
   "codemirror_mode": {
    "name": "ipython",
    "version": 3
   },
   "file_extension": ".py",
   "mimetype": "text/x-python",
   "name": "python",
   "nbconvert_exporter": "python",
   "pygments_lexer": "ipython3",
   "version": "3.11.4"
  }
 },
 "nbformat": 4,
 "nbformat_minor": 5
}
